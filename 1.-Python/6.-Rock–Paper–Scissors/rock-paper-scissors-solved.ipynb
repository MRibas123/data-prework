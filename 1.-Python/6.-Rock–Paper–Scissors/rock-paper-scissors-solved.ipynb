{
 "cells": [
  {
   "cell_type": "markdown",
   "metadata": {},
   "source": [
    "<img src=\"https://bit.ly/2VnXWr2\" width=\"100\" align=\"left\">"
   ]
  },
  {
   "cell_type": "markdown",
   "metadata": {},
   "source": [
    "# Rock, Paper & Scissors\n",
    "\n",
    "Let's play the famous game against our computer. You can check the rules [here](https://en.wikipedia.org/wiki/Rock%E2%80%93paper%E2%80%93scissors). \n",
    "\n",
    "## Task\n",
    "Create a program that imitates the playability of the well known game of rock, paper, scissors. Follow the guidelines provided.\n",
    "\n",
    "## Tools\n",
    "1. Loop: **for/while**\n",
    "2. Functions: **input(), print()...**\n",
    "3. Conditional statements: **if, elif, else**\n",
    "4. Definition of functions. Modular programming\n",
    "5. Import modules\n",
    "\n",
    "**To solve this challenge, the use of functions is recommended.**\n",
    "\n",
    "#### 1. Import the choice function of the random module."
   ]
  },
  {
   "cell_type": "code",
   "execution_count": 1,
   "metadata": {},
   "outputs": [],
   "source": [
    "import random\n",
    "    "
   ]
  },
  {
   "cell_type": "markdown",
   "metadata": {},
   "source": [
    "#### 2. Create a list that includes the 3 possible gesture options of the game: 'rock', 'paper' or 'scissors'. Store the list in a variable called `gestures`."
   ]
  },
  {
   "cell_type": "code",
   "execution_count": 2,
   "metadata": {},
   "outputs": [],
   "source": [
    "gestures = ['rock', 'paper', 'scissors']"
   ]
  },
  {
   "cell_type": "markdown",
   "metadata": {},
   "source": [
    "#### 3. Create a variable called `n_rounds` to store the maximum number of rounds to play in a game. \n",
    "Remember that the number of rounds must be odd: 1, 3, 5, ..."
   ]
  },
  {
   "cell_type": "code",
   "execution_count": 3,
   "metadata": {},
   "outputs": [],
   "source": [
    "n_rounds = 9"
   ]
  },
  {
   "cell_type": "markdown",
   "metadata": {},
   "source": [
    "#### 4. Create a variable called `rounds_to_win` to store the number of rounds that a player must win to win the game.\n",
    "**Hint**: the value stored in `rounds_to_win` depends on the value of `n_rounds`. "
   ]
  },
  {
   "cell_type": "code",
   "execution_count": 4,
   "metadata": {},
   "outputs": [
    {
     "name": "stdout",
     "output_type": "stream",
     "text": [
      "4\n"
     ]
    }
   ],
   "source": [
    "rounds_to_win = int(n_rounds/2)\n",
    "\n",
    "print(rounds_to_win)"
   ]
  },
  {
   "cell_type": "markdown",
   "metadata": {},
   "source": [
    "#### 5. Create two variables to store the number of rounds that the computer and the player have won. Call these variables `cpu_score` and `player_score`."
   ]
  },
  {
   "cell_type": "code",
   "execution_count": 5,
   "metadata": {},
   "outputs": [],
   "source": [
    "cpu_score = 0\n",
    "player_score = 0"
   ]
  },
  {
   "cell_type": "markdown",
   "metadata": {},
   "source": [
    "#### 6. Define a function that randomly returns one of the 3 gesture options.\n",
    "You will use this function to simulate the gesture choice of the computer. "
   ]
  },
  {
   "cell_type": "code",
   "execution_count": 6,
   "metadata": {},
   "outputs": [],
   "source": [
    "def random_gesture():\n",
    "    a = random.choice(gestures)\n",
    "    if a == gestures[0]:\n",
    "        a = 'r'\n",
    "    elif a == gestures[1]:\n",
    "        a = 'p'\n",
    "    elif a == gestures[2]:\n",
    "        a = 's'\n",
    "    return a\n",
    "\n",
    "\n"
   ]
  },
  {
   "cell_type": "markdown",
   "metadata": {},
   "source": [
    "#### 7. Define a function that asks the player which is the gesture he or she wants to show: 'rock', 'paper' or 'scissors'.\n",
    "The player should only be allowed to choose one of the 3 gesture options. If the player's choice is not rock, paper or scissors, keep asking until it is."
   ]
  },
  {
   "cell_type": "code",
   "execution_count": 7,
   "metadata": {},
   "outputs": [],
   "source": [
    "def Player_Choice():\n",
    "    while 1:\n",
    "        x = input('Rock, Paper or Scissors: ')\n",
    "        if x in ['Rock', 'rock', 'r', 'R']:\n",
    "            x = 'r'\n",
    "            return x\n",
    "        elif x in ['Paper', 'paper', 'p', 'P']:\n",
    "            x = 'p'\n",
    "            return x\n",
    "        elif x in ['Scissors', 'scissors', 's', 'S']:\n",
    "            x = 's'\n",
    "            return x\n",
    "        else:\n",
    "            print(\"I don't understand, try again.\")        \n",
    "                \n",
    " \n"
   ]
  },
  {
   "cell_type": "markdown",
   "metadata": {},
   "source": [
    "#### 8. Define a function that checks who won a round. \n",
    "The function should return 0 if there is a tie, 1 if the computer wins and 2 if the player wins."
   ]
  },
  {
   "cell_type": "code",
   "execution_count": 8,
   "metadata": {},
   "outputs": [],
   "source": [
    "def compare(user, pc):  \n",
    "    if user == pc:\n",
    "        return 0\n",
    "    elif user == 'r' and pc == 's':\n",
    "        return 2\n",
    "    elif user == 'r' and pc == 'p':\n",
    "        return 1\n",
    "    elif user == 'p' and pc == 'r':\n",
    "        return 2\n",
    "    elif user == 'p' and pc == 's':\n",
    "        return 1\n",
    "    elif user == 's' and pc == 'r':\n",
    "        return 1\n",
    "    elif user == 's' and pc == 'p':\n",
    "        return 2\n",
    "\n"
   ]
  },
  {
   "cell_type": "markdown",
   "metadata": {},
   "source": [
    "#### 9. Define a function that prints the choice of the computer, the choice of the player and a message that announces who won the current round. \n",
    "You should also use this function to update the variables that count the number of rounds that the computer and the player have won. The score of the winner increases by one point. If there is a tie, the score does not increase."
   ]
  },
  {
   "cell_type": "code",
   "execution_count": 9,
   "metadata": {},
   "outputs": [],
   "source": [
    "def games_won(user,pc):\n",
    "    global player_score\n",
    "    global cpu_score\n",
    "    result = compare(user, pc)\n",
    "    if result == 0:\n",
    "        print('Tie, Player played: ' + user + ' and the computer played: ' + pc)\n",
    "    elif result == 1:\n",
    "        print('Computer won with: '+ pc + '. vs the player choice: ' + user)\n",
    "        cpu_score += 1\n",
    "    elif result == 2:\n",
    "        print('Computer lost with: '+ pc + '. vs the player choice: ' + user)\n",
    "        player_score += 1\n"
   ]
  },
  {
   "cell_type": "markdown",
   "metadata": {},
   "source": [
    "#### 10. Now it's time to code the execution of the game using the functions and variables you defined above. \n",
    "\n",
    "First, create a loop structure that repeats while no player reaches the minimum score necessary to win and the number of rounds is less than the maximum number of rounds to play in a game.  \n",
    "\n",
    "Inside the loop, use the functions and variables above to create the execution of a round: ask for the player's choice, generate the random choice of the computer, show the round results, update the scores, etc. "
   ]
  },
  {
   "cell_type": "code",
   "execution_count": 10,
   "metadata": {},
   "outputs": [],
   "source": [
    "def rock_paper_scissor():\n",
    "    rounds = 0\n",
    "    for rounds in range(n_rounds):              \n",
    "        user = Player_Choice()\n",
    "        pc = random_gesture()\n",
    "        \n",
    "        games_won(user,pc)\n",
    "        print('You have ' + str(player_score) + ' points!')\n",
    "        print('Computer has ' + str(cpu_score) + ' points!')\n",
    "        if cpu_score == rounds_to_win or player_score == rounds_to_win:\n",
    "            break\n"
   ]
  },
  {
   "cell_type": "markdown",
   "metadata": {},
   "source": [
    "#### 11. Print the winner of the game based on who won more rounds.\n",
    "Remember that the game might be tied. "
   ]
  },
  {
   "cell_type": "code",
   "execution_count": 13,
   "metadata": {},
   "outputs": [
    {
     "name": "stdout",
     "output_type": "stream",
     "text": [
      "Rock, Paper or Scissors: s\n",
      "Computer lost with: p. vs the player choice: s\n",
      "2\n",
      "You have 1 points!\n",
      "Computer has 0 points!\n",
      "Rock, Paper or Scissors: s\n",
      "Computer lost with: p. vs the player choice: s\n",
      "2\n",
      "You have 2 points!\n",
      "Computer has 0 points!\n",
      "Rock, Paper or Scissors: rock\n",
      "Tie, Player played: r and the computer played: r\n",
      "0\n",
      "You have 2 points!\n",
      "Computer has 0 points!\n",
      "Rock, Paper or Scissors: s\n",
      "Computer won with: r. vs the player choice: s\n",
      "1\n",
      "You have 2 points!\n",
      "Computer has 1 points!\n",
      "Rock, Paper or Scissors: paper\n",
      "Computer won with: s. vs the player choice: p\n",
      "1\n",
      "You have 2 points!\n",
      "Computer has 2 points!\n",
      "Rock, Paper or Scissors: paper\n",
      "Computer lost with: r. vs the player choice: p\n",
      "2\n",
      "You have 3 points!\n",
      "Computer has 2 points!\n",
      "Rock, Paper or Scissors: rock\n",
      "Tie, Player played: r and the computer played: r\n",
      "0\n",
      "You have 3 points!\n",
      "Computer has 2 points!\n",
      "Rock, Paper or Scissors: rock\n",
      "Computer lost with: s. vs the player choice: r\n",
      "2\n",
      "You have 4 points!\n",
      "Computer has 2 points!\n",
      "You won the game!\n"
     ]
    }
   ],
   "source": [
    "while 1:\n",
    "    rock_paper_scissor()\n",
    "    if cpu_score == rounds_to_win:\n",
    "        print('Computer won the game!')\n",
    "        cpu_score = 0\n",
    "        player_score = 0\n",
    "        break\n",
    "    elif player_score == rounds_to_win:\n",
    "        print('You won the game!')\n",
    "        cpu_score = 0\n",
    "        player_score = 0\n",
    "        break\n",
    "    elif n_rounds == rounds:\n",
    "        if cpu_score > player_score:\n",
    "            print('Computer won the game!')\n",
    "            cpu_score = 0\n",
    "            player_score = 0\n",
    "            break\n",
    "        elif player_score > cpu_score:\n",
    "            print('You won the game!')\n",
    "            cpu_score = 0\n",
    "            player_score = 0\n",
    "            break\n",
    "        elif player_score == cpu_score:\n",
    "            print('Tie game.')\n",
    "            cpu_score = 0\n",
    "            player_score = 0\n",
    "            break"
   ]
  },
  {
   "cell_type": "markdown",
   "metadata": {},
   "source": [
    "# Bonus: Rock, Paper, Scissors, Lizard & Spock\n",
    "![](images/rpsls.jpg)\n",
    "\n",
    "In this challenge, you need to improve the previous game by adding two new options. To know more about the rules of the improved version of rock, paper, scissors, check this [link](http://www.samkass.com/theories/RPSSL.html). \n",
    "\n",
    "In addition, you will also need to improve how the game interacts with the player: the number of rounds to play, which must be an odd number, will be requested to the user until a valid number is entered. Define a new function to make that request.\n",
    "\n",
    "**Hint**: Try to reuse the code that you already coded in the previous challenge. If your code is efficient, this bonus will only consist of simple modifications to the original game."
   ]
  },
  {
   "cell_type": "code",
   "execution_count": 17,
   "metadata": {},
   "outputs": [
    {
     "name": "stdout",
     "output_type": "stream",
     "text": [
      "Rock, Paper, Scissors, Lizard or Spock: sp\n",
      "Computer lost with: s. vs the player choice: sp\n",
      "You have 1 points!\n",
      "Computer has 0 points!\n",
      "Rock, Paper, Scissors, Lizard or Spock: rock\n",
      "Computer won with: p. vs the player choice: r\n",
      "You have 1 points!\n",
      "Computer has 1 points!\n",
      "Rock, Paper, Scissors, Lizard or Spock: rock\n",
      "Computer lost with: s. vs the player choice: r\n",
      "You have 2 points!\n",
      "Computer has 1 points!\n",
      "Rock, Paper, Scissors, Lizard or Spock: rock\n",
      "Computer won with: p. vs the player choice: r\n",
      "You have 2 points!\n",
      "Computer has 2 points!\n",
      "Rock, Paper, Scissors, Lizard or Spock: rock\n",
      "Computer lost with: s. vs the player choice: r\n",
      "You have 3 points!\n",
      "Computer has 2 points!\n",
      "Rock, Paper, Scissors, Lizard or Spock: rock\n",
      "Computer won with: sp. vs the player choice: r\n",
      "You have 3 points!\n",
      "Computer has 3 points!\n",
      "Rock, Paper, Scissors, Lizard or Spock: rock\n",
      "Computer won with: p. vs the player choice: r\n",
      "You have 3 points!\n",
      "Computer has 4 points!\n",
      "Computer won the game!\n"
     ]
    }
   ],
   "source": [
    "gestures_2 = ['rock', 'paper', 'scissors', 'lizard', 'spock']\n",
    "\n",
    "def random_gesture_2():\n",
    "    a = random.choice(gestures_2)\n",
    "    if a == gestures_2[0]:\n",
    "        a = 'r'\n",
    "    elif a == gestures_2[1]:\n",
    "        a = 'p'\n",
    "    elif a == gestures_2[2]:\n",
    "        a = 's'\n",
    "    elif a == gestures_2[3]:\n",
    "        a = 'l'\n",
    "    elif a == gestures_2[4]:\n",
    "        a='sp'\n",
    "    return a\n",
    "\n",
    "def Player_Choice_2():\n",
    "    while 1:\n",
    "        x = input('Rock, Paper, Scissors, Lizard or Spock: ')\n",
    "        if x in ['Rock', 'rock', 'r', 'R']:\n",
    "            x = 'r'\n",
    "            return x\n",
    "        elif x in ['Paper', 'paper', 'p', 'P']:\n",
    "            x = 'p'\n",
    "            return x\n",
    "        elif x in ['Scissors', 'scissors', 's', 'S']:\n",
    "            x = 's'\n",
    "            return x\n",
    "        elif x in ['Lizard', 'lizard', 'l', 'L']:\n",
    "            x = 'l'\n",
    "            return x\n",
    "        elif x in ['Spock', 'spock','sp', 'Sp','SP']:\n",
    "            x = 'sp'\n",
    "            return x\n",
    "        else:\n",
    "            print(\"I don't understand, try again.\")   \n",
    "            \n",
    "def compare_2(user_2, pc_2):  \n",
    "    if user_2 == pc_2:\n",
    "        return 0\n",
    "    elif user_2 == 'r' and pc_2 == 's':\n",
    "        return 2\n",
    "    elif user_2 == 'r' and pc_2 == 'p':\n",
    "        return 1\n",
    "    elif user_2 == 'r' and pc_2 == 'l':\n",
    "        return 2\n",
    "    elif user_2 == 'r' and pc_2 == 'sp':\n",
    "        return 1\n",
    "    elif user_2 == 'p' and pc_2 ==  'l':\n",
    "        return 1\n",
    "    elif user_2 == 'p' and pc_2 == 'sp':\n",
    "        return 2\n",
    "    elif user_2 == 'p' and pc_2 == 'r':\n",
    "        return 2\n",
    "    elif user_2 == 'p' and pc_2 == 's':\n",
    "        return 1\n",
    "    elif user_2 == 's' and pc_2 == 'r':\n",
    "        return 1\n",
    "    elif user_2 == 's' and pc_2 == 'p':\n",
    "        return 2\n",
    "    elif user_2 == 's' and pc_2 == 'l':\n",
    "        return 2\n",
    "    elif user_2 == 's' and pc_2 == 'sp':\n",
    "        return 1\n",
    "    elif user_2 == 'sp' and pc_2 == 'r':\n",
    "        return 2\n",
    "    elif user_2 == 'sp' and pc_2 == 's':\n",
    "        return 2\n",
    "    elif user_2 == 'sp' and pc_2 == 'l':\n",
    "        return 1\n",
    "    elif user_2 == 'sp' and pc_2 == 'p':\n",
    "        return 1\n",
    "    elif user_2 == 'l' and pc_2 == 'r':\n",
    "        return 1\n",
    "    elif user_2 == 'l' and pc_2 == 's':\n",
    "        return 1\n",
    "    elif user_2 == 'l' and pc_2 == 'p':\n",
    "        return 2\n",
    "    elif user_2 == 'l' and pc_2 == 'sp':\n",
    "        return 2\n",
    "    \n",
    "def games_won_2(user_2,pc_2):\n",
    "    global player_score\n",
    "    global cpu_score\n",
    "    result = compare_2(user_2, pc_2)\n",
    "    if result == 0:\n",
    "        print('Tie, Player played: ' + user_2 + ' and the computer played: ' + pc_2)\n",
    "    elif result == 1:\n",
    "        print('Computer won with: '+ pc_2 + '. vs the player choice: ' + user_2)\n",
    "        cpu_score += 1\n",
    "    elif result == 2:\n",
    "        print('Computer lost with: '+ pc_2 + '. vs the player choice: ' + user_2)\n",
    "        player_score += 1\n",
    "        \n",
    "def rock_paper_scissor_lizzard_spock():\n",
    "    rounds = 0\n",
    "    for rounds in range(n_rounds):              \n",
    "        user_2 = Player_Choice_2()\n",
    "        pc_2 = random_gesture_2()\n",
    "        \n",
    "        games_won_2(user_2,pc_2)\n",
    "        print('You have ' + str(player_score) + ' points!')\n",
    "        print('Computer has ' + str(cpu_score) + ' points!')\n",
    "        if cpu_score == rounds_to_win or player_score == rounds_to_win:\n",
    "            break\n",
    "            \n",
    "while 1:\n",
    "    rock_paper_scissor_lizzard_spock()\n",
    "    if cpu_score == rounds_to_win:\n",
    "        print('Computer won the game!')\n",
    "        cpu_score = 0\n",
    "        player_score = 0\n",
    "        break\n",
    "    elif player_score == rounds_to_win:\n",
    "        print('You won the game!')\n",
    "        cpu_score = 0\n",
    "        player_score = 0\n",
    "        break\n",
    "    elif n_rounds == rounds:\n",
    "        if cpu_score > player_score:\n",
    "            print('Computer won the game!')\n",
    "            cpu_score = 0\n",
    "            player_score = 0\n",
    "            break\n",
    "        elif player_score > cpu_score:\n",
    "            print('You won the game!')\n",
    "            cpu_score = 0\n",
    "            player_score = 0\n",
    "            break\n",
    "        elif player_score == cpu_score:\n",
    "            print('Tie game.')\n",
    "            cpu_score = 0\n",
    "            player_score = 0\n",
    "            break"
   ]
  }
 ],
 "metadata": {
  "kernelspec": {
   "display_name": "Python 3",
   "language": "python",
   "name": "python3"
  },
  "language_info": {
   "codemirror_mode": {
    "name": "ipython",
    "version": 3
   },
   "file_extension": ".py",
   "mimetype": "text/x-python",
   "name": "python",
   "nbconvert_exporter": "python",
   "pygments_lexer": "ipython3",
   "version": "3.7.6"
  }
 },
 "nbformat": 4,
 "nbformat_minor": 2
}
